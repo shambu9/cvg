{
 "cells": [
  {
   "cell_type": "markdown",
   "metadata": {},
   "source": [
    "![image.png](res/9.JPG)"
   ]
  },
  {
   "cell_type": "markdown",
   "metadata": {},
   "source": [
    "![image.png](res/9_1.JPG)"
   ]
  },
  {
   "cell_type": "code",
   "execution_count": null,
   "metadata": {},
   "outputs": [],
   "source": [
    "# Enter your code here. Read input from STDIN. Print output to STDOUT\n",
    "from collections import Counter\n",
    "\n",
    "shoes = int(input())\n",
    "size_list = list(map(int, input().split(\" \")))\n",
    "cust_num = int(input())\n",
    "queue = [list(map(int, input().split(\" \"))) for x in range(cust_num)]\n",
    "\n",
    "inventory = Counter(size_list)\n",
    "money = 0\n",
    "\n",
    "for x in queue:\n",
    "    if inventory[x[0]] != 0:\n",
    "        money += x[1]\n",
    "        inventory[x[0]] -= 1\n",
    "\n",
    "print(money)"
   ]
  }
 ],
 "metadata": {
  "kernelspec": {
   "display_name": "Python 3",
   "language": "python",
   "name": "python3"
  },
  "language_info": {
   "codemirror_mode": {
    "name": "ipython",
    "version": 3
   },
   "file_extension": ".py",
   "mimetype": "text/x-python",
   "name": "python",
   "nbconvert_exporter": "python",
   "pygments_lexer": "ipython3",
   "version": "3.7.3"
  }
 },
 "nbformat": 4,
 "nbformat_minor": 4
}
